{
 "cells": [
  {
   "cell_type": "code",
   "execution_count": 1,
   "id": "03f537c5",
   "metadata": {},
   "outputs": [],
   "source": [
    "import matplotlib.pyplot as plt \n",
    "import torch\n",
    "import torchvision\n",
    "from torchvision import transforms\n",
    "from torchvision.datasets import ImageFolder"
   ]
  },
  {
   "cell_type": "code",
   "execution_count": 2,
   "id": "5e7fa933",
   "metadata": {},
   "outputs": [
    {
     "name": "stdout",
     "output_type": "stream",
     "text": [
      "Device: cuda\n"
     ]
    }
   ],
   "source": [
    "#Check if GPU is available\n",
    "if torch.cuda.is_available():\n",
    "    device = torch.device('cuda')\n",
    "else:\n",
    "    device = torch.device('cpu')\n",
    "print(\"Device:\",device)"
   ]
  },
  {
   "cell_type": "code",
   "execution_count": 3,
   "id": "904e059e",
   "metadata": {},
   "outputs": [],
   "source": [
    "#loading train and test data\n",
    "dataset = ImageFolder(\"archive\\images_E_S_SB_227x227_a_03\\images_E_S_SB_227x227_a_03_train\",transform = transforms.Compose([\n",
    "    transforms.Resize((227,227)),transforms.ToTensor()\n",
    "]))\n",
    "test_dataset = ImageFolder(\"archive\\images_E_S_SB_227x227_a_03\\images_E_S_SB_227x227_a_03_test\",transforms.Compose([\n",
    "    transforms.Resize((227,227)),transforms.ToTensor()\n",
    "]))"
   ]
  },
  {
   "cell_type": "code",
   "execution_count": 4,
   "id": "630472d0",
   "metadata": {},
   "outputs": [
    {
     "name": "stdout",
     "output_type": "stream",
     "text": [
      "torch.Size([3, 227, 227]) 0\n",
      "Classes: \n",
      " ['E', 'S', 'SB']\n"
     ]
    }
   ],
   "source": [
    "img, label = dataset[0]\n",
    "print(img.shape,label)\n",
    "print(\"Classes: \\n\",dataset.classes)"
   ]
  },
  {
   "cell_type": "code",
   "execution_count": 5,
   "id": "c64159c2",
   "metadata": {},
   "outputs": [
    {
     "name": "stdout",
     "output_type": "stream",
     "text": [
      "Label : E\n"
     ]
    }
   ],
   "source": [
    "def display_img(img,label):\n",
    "    print(f\"Label : {dataset.classes[label]}\")\n",
    "    plt.imshow(img.permute(1,2,0))\n",
    "\n",
    "#display the first image in the dataset\n",
    "display_img(*dataset[10])"
   ]
  },
  {
   "cell_type": "code",
   "execution_count": null,
   "id": "6b85441d",
   "metadata": {},
   "outputs": [],
   "source": []
  }
 ],
 "metadata": {
  "kernelspec": {
   "display_name": "Python 3 (ipykernel)",
   "language": "python",
   "name": "python3"
  },
  "language_info": {
   "codemirror_mode": {
    "name": "ipython",
    "version": 3
   },
   "file_extension": ".py",
   "mimetype": "text/x-python",
   "name": "python",
   "nbconvert_exporter": "python",
   "pygments_lexer": "ipython3",
   "version": "3.11.5"
  }
 },
 "nbformat": 4,
 "nbformat_minor": 5
}
