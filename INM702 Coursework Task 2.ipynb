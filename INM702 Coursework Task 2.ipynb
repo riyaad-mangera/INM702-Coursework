{
 "cells": [
  {
   "cell_type": "code",
   "execution_count": 1,
   "id": "2830186a",
   "metadata": {},
   "outputs": [],
   "source": [
    "%matplotlib inline \n",
    "import matplotlib.pyplot as plt\n",
    "\n",
    "import torch\n",
    "import torch.nn as nn\n",
    "import torch.nn.functional as F\n",
    "from torch.utils.data.dataloader import DataLoader\n",
    "from torch.utils.data import random_split\n",
    "\n",
    "import torchvision\n",
    "from torchvision import transforms\n",
    "from torchvision.datasets import ImageFolder\n",
    "\n",
    "from datetime import datetime\n",
    "import time "
   ]
  },
  {
   "cell_type": "markdown",
   "id": "2301ef61",
   "metadata": {},
   "source": [
    "## Check whether to use GPU or CPU"
   ]
  },
  {
   "cell_type": "code",
   "execution_count": 2,
   "id": "d1ff2454",
   "metadata": {},
   "outputs": [
    {
     "name": "stdout",
     "output_type": "stream",
     "text": [
      "Device: cuda\n"
     ]
    }
   ],
   "source": [
    "if torch.cuda.is_available():\n",
    "    \n",
    "    device = torch.device(\"cuda\")\n",
    "    \n",
    "else:\n",
    "    \n",
    "    device = torch.device(\"cpu\")\n",
    "    \n",
    "print(\"Device:\",device)"
   ]
  },
  {
   "cell_type": "markdown",
   "id": "2569c206",
   "metadata": {},
   "source": [
    "## Loading train and test data"
   ]
  },
  {
   "cell_type": "code",
   "execution_count": 3,
   "id": "c20f067a",
   "metadata": {},
   "outputs": [
    {
     "name": "stdout",
     "output_type": "stream",
     "text": [
      "torch.Size([3, 69, 69]) 0\n",
      "Classes: \n",
      " ['E', 'S', 'SB']\n"
     ]
    }
   ],
   "source": [
    "train_path = \"archive\\images_E_S_SB_69x69_a_03\\images_E_S_SB_69x69_a_03_train\"\n",
    "test_path = \"archive\\images_E_S_SB_69x69_a_03\\images_E_S_SB_69x69_a_03_test\"\n",
    "\n",
    "dataset = ImageFolder(train_path, transform = transforms.Compose([transforms.Resize((69,69)),transforms.ToTensor()]))\n",
    "\n",
    "test_dataset = ImageFolder(test_path, transforms.Compose([transforms.Resize((69,69)),transforms.ToTensor()]))\n",
    "\n",
    "img, label = dataset[0]\n",
    "\n",
    "print(img.shape,label)\n",
    "print(\"Classes: \\n\",dataset.classes)"
   ]
  },
  {
   "cell_type": "markdown",
   "id": "5ea6b89d",
   "metadata": {},
   "source": [
    "## Display sample image to confirm data was loaded correctly"
   ]
  },
  {
   "cell_type": "code",
   "execution_count": 4,
   "id": "e2d9a7f1",
   "metadata": {},
   "outputs": [
    {
     "name": "stdout",
     "output_type": "stream",
     "text": [
      "Type: E\n"
     ]
    },
    {
     "data": {
      "image/jpeg": "[encoded data removed]",
      "image/png": "[encoded data removed]",
      "text/plain": [
       "<PIL.Image.Image image mode=RGB size=69x69>"
      ]
     },
     "metadata": {},
     "output_type": "display_data"
    }
   ],
   "source": [
    "def display_img(img, label):\n",
    "    \n",
    "    print(\"Type:\", dataset.classes[label])\n",
    "    \n",
    "    to_img = transforms.ToPILImage()(img)\n",
    "    display(to_img)\n",
    "\n",
    "    \n",
    "display_img(*dataset[10])"
   ]
  },
  {
   "cell_type": "markdown",
   "id": "351b5d68",
   "metadata": {},
   "source": [
    "## Split data into training and validation sets"
   ]
  },
  {
   "cell_type": "code",
   "execution_count": 5,
   "id": "fc8e108e",
   "metadata": {},
   "outputs": [
    {
     "name": "stdout",
     "output_type": "stream",
     "text": [
      "Train Data: 108389\n",
      "Validation Data: 12043\n"
     ]
    }
   ],
   "source": [
    "valid_size = int(len(dataset) * 0.1)\n",
    "train_size = len(dataset) - valid_size \n",
    "\n",
    "train_data, valid_data = random_split(dataset, [train_size, valid_size])\n",
    "\n",
    "print(\"Train Data:\", len(train_data))\n",
    "print(\"Validation Data:\",  len(valid_data))"
   ]
  },
  {
   "cell_type": "markdown",
   "id": "785864de",
   "metadata": {},
   "source": [
    "## Generate batches for training and validation sets"
   ]
  },
  {
   "cell_type": "code",
   "execution_count": 6,
   "id": "af906f3f",
   "metadata": {},
   "outputs": [],
   "source": [
    "batch_size = 32\n",
    "\n",
    "train_batches = DataLoader(train_data, batch_size, shuffle = True, num_workers = 2, pin_memory = True)\n",
    "valid_batches = DataLoader(valid_data, batch_size * 2, num_workers = 2, pin_memory = True)"
   ]
  },
  {
   "cell_type": "markdown",
   "id": "f5e42d3b",
   "metadata": {},
   "source": [
    "## Neural Network Class"
   ]
  },
  {
   "cell_type": "code",
   "execution_count": 7,
   "id": "ceca1612",
   "metadata": {},
   "outputs": [],
   "source": [
    "class ImageNeuralNetwork(nn.Module):\n",
    "    \n",
    "    def __init__(self, learning_rate = 0.1, epochs = 5, optimiser = torch.optim.SGD):\n",
    "        \n",
    "        super().__init__()\n",
    "        \n",
    "        self.learning_rate = learning_rate\n",
    "        self.epochs = epochs\n",
    "        self.optimiser = optimiser\n",
    "        \n",
    "        self.network = nn.Sequential(\n",
    "            \n",
    "            nn.Conv2d(3, 32, kernel_size = 3, padding = 1),\n",
    "            nn.ReLU(),\n",
    "            nn.Conv2d(32, 64, kernel_size = 3, stride = 1, padding = 1),\n",
    "            nn.ReLU(),\n",
    "            nn.MaxPool2d(2, 2),\n",
    "        \n",
    "            nn.Conv2d(64, 128, kernel_size = 3, stride = 1, padding = 1),\n",
    "            nn.ReLU(),\n",
    "            nn.Conv2d(128 ,128, kernel_size = 3, stride = 1, padding = 1),\n",
    "            nn.ReLU(),\n",
    "            nn.MaxPool2d(2,2),\n",
    "            \n",
    "            nn.Conv2d(128, 256, kernel_size = 3, stride = 1, padding = 1),\n",
    "            nn.ReLU(),\n",
    "            nn.Conv2d(256, 256, kernel_size = 3, stride = 1, padding = 1),\n",
    "            nn.ReLU(),\n",
    "            nn.MaxPool2d(2,2),\n",
    "            \n",
    "            nn.Flatten(),\n",
    "            \n",
    "            nn.Linear(16384, 1024),\n",
    "            nn.ReLU(),\n",
    "            nn.Linear(1024, 512),\n",
    "            nn.ReLU(),\n",
    "            nn.Linear(512, 12)\n",
    "        )\n",
    "\n",
    "    def forward(self, x):\n",
    "        \n",
    "        return self.network(x)\n",
    "    \n",
    "    def accuracy(self, outputs, labels):\n",
    "        \n",
    "        _, predictions = torch.max(outputs, dim = 1)\n",
    "        \n",
    "        return torch.tensor(torch.sum(predictions == labels).item() / len(predictions))\n",
    "\n",
    "    @torch.no_grad() #Updates weights without calculating gradients\n",
    "    def evaluate(self, model, valid_batches):\n",
    "        \n",
    "        model.eval()\n",
    "        outputs = []\n",
    "        \n",
    "        for batch in valid_batches:\n",
    "            \n",
    "            images, labels = batch \n",
    "            images, labels = images.to(device), labels.to(device)\n",
    "            \n",
    "            predictions = model(images)\n",
    "            loss = F.cross_entropy(predictions, labels)\n",
    "            accuracy = self.accuracy(predictions, labels)\n",
    "            \n",
    "            outputs.append({\"valid_loss\": loss.detach(), \"valid_accuracy\": accuracy})\n",
    "    \n",
    "        #Combine losses and accuracies\n",
    "        batch_loss = [x[\"valid_loss\"] for x in outputs]\n",
    "        batch_accuracy = [x[\"valid_accuracy\"] for x in outputs]\n",
    "        \n",
    "        epoch_loss = torch.stack(batch_loss).mean()\n",
    "        epoch_accuracy = torch.stack(batch_accuracy).mean()\n",
    "        \n",
    "        return {\"valid_loss\": epoch_loss.item(), \"valid_accuracy\": epoch_accuracy.item()}\n",
    "    \n",
    "    def fit(self, model, train_batches, valid_batches):\n",
    "    \n",
    "        history = []\n",
    "        optimizer = self.optimiser(model.parameters(), self.learning_rate)\n",
    "\n",
    "        for epoch in range(self.epochs):\n",
    "            \n",
    "            start = datetime.now()\n",
    "            model.train()\n",
    "            train_losses = []\n",
    "\n",
    "            for batch in train_batches:\n",
    "\n",
    "                images, labels = batch \n",
    "                images, labels = images.to(device), labels.to(device)\n",
    "                \n",
    "                predictions = model(images)\n",
    "                loss = F.cross_entropy(predictions, labels)\n",
    "                \n",
    "                train_losses.append(loss)\n",
    "                \n",
    "                loss.backward()\n",
    "                \n",
    "                optimizer.step()\n",
    "                optimizer.zero_grad()\n",
    "\n",
    "            result = self.evaluate(model, valid_batches)\n",
    "            result[\"train_loss\"] = torch.stack(train_losses).mean().item()\n",
    "            \n",
    "            print(\"Epoch [{}], train_loss: {:.4f}, valid_loss: {:.4f}, valid_accuracy: {:.4f}\".format(\n",
    "                epoch, result[\"train_loss\"], result[\"valid_loss\"], result[\"valid_accuracy\"]))\n",
    "            print(f\"Time taken for epoch {epoch}: {datetime.now()-start}\")\n",
    "            \n",
    "            history.append(result)\n",
    "\n",
    "        return history"
   ]
  },
  {
   "cell_type": "markdown",
   "id": "ea2eef68",
   "metadata": {},
   "source": [
    "## Initialise model and set hyperparameters"
   ]
  },
  {
   "cell_type": "code",
   "execution_count": 8,
   "id": "50da34bf",
   "metadata": {},
   "outputs": [
    {
     "name": "stdout",
     "output_type": "stream",
     "text": [
      "ImageNeuralNetwork(\n",
      "  (network): Sequential(\n",
      "    (0): Conv2d(3, 32, kernel_size=(3, 3), stride=(1, 1), padding=(1, 1))\n",
      "    (1): ReLU()\n",
      "    (2): Conv2d(32, 64, kernel_size=(3, 3), stride=(1, 1), padding=(1, 1))\n",
      "    (3): ReLU()\n",
      "    (4): MaxPool2d(kernel_size=2, stride=2, padding=0, dilation=1, ceil_mode=False)\n",
      "    (5): Conv2d(64, 128, kernel_size=(3, 3), stride=(1, 1), padding=(1, 1))\n",
      "    (6): ReLU()\n",
      "    (7): Conv2d(128, 128, kernel_size=(3, 3), stride=(1, 1), padding=(1, 1))\n",
      "    (8): ReLU()\n",
      "    (9): MaxPool2d(kernel_size=2, stride=2, padding=0, dilation=1, ceil_mode=False)\n",
      "    (10): Conv2d(128, 256, kernel_size=(3, 3), stride=(1, 1), padding=(1, 1))\n",
      "    (11): ReLU()\n",
      "    (12): Conv2d(256, 256, kernel_size=(3, 3), stride=(1, 1), padding=(1, 1))\n",
      "    (13): ReLU()\n",
      "    (14): MaxPool2d(kernel_size=2, stride=2, padding=0, dilation=1, ceil_mode=False)\n",
      "    (15): Flatten(start_dim=1, end_dim=-1)\n",
      "    (16): Linear(in_features=16384, out_features=1024, bias=True)\n",
      "    (17): ReLU()\n",
      "    (18): Linear(in_features=1024, out_features=512, bias=True)\n",
      "    (19): ReLU()\n",
      "    (20): Linear(in_features=512, out_features=12, bias=True)\n",
      "  )\n",
      ")\n"
     ]
    }
   ],
   "source": [
    "learning_rate = 0.001\n",
    "epochs = 5\n",
    "optimiser = torch.optim.Adam\n",
    "\n",
    "model = ImageNeuralNetwork(learning_rate, epochs, optimiser)\n",
    "print(model)"
   ]
  },
  {
   "cell_type": "markdown",
   "id": "59c0ff97",
   "metadata": {},
   "source": [
    "## Fit model and get recorded loss values of each epoch"
   ]
  },
  {
   "cell_type": "code",
   "execution_count": 9,
   "id": "d27d6b6e",
   "metadata": {},
   "outputs": [
    {
     "name": "stdout",
     "output_type": "stream",
     "text": [
      "Epoch [0], train_loss: 0.6537, valid_loss: 0.5294, valid_accuracy: 0.7948\n",
      "Time taken for epoch 0: 0:02:25.024704\n",
      "Epoch [1], train_loss: 0.4932, valid_loss: 0.4727, valid_accuracy: 0.8217\n",
      "Time taken for epoch 1: 0:02:21.505364\n",
      "Epoch [2], train_loss: 0.4503, valid_loss: 0.4518, valid_accuracy: 0.8332\n",
      "Time taken for epoch 2: 0:02:21.543747\n",
      "Epoch [3], train_loss: 0.4265, valid_loss: 0.4458, valid_accuracy: 0.8362\n",
      "Time taken for epoch 3: 0:02:21.584321\n",
      "Epoch [4], train_loss: 0.4048, valid_loss: 0.4327, valid_accuracy: 0.8444\n",
      "Time taken for epoch 4: 0:02:21.979123\n"
     ]
    }
   ],
   "source": [
    "model.to(device)\n",
    "\n",
    "history = model.fit(model, train_batches, valid_batches)"
   ]
  },
  {
   "cell_type": "code",
   "execution_count": null,
   "id": "a66d7e8e",
   "metadata": {},
   "outputs": [],
   "source": []
  }
 ],
 "metadata": {
  "kernelspec": {
   "display_name": "Python 3 (ipykernel)",
   "language": "python",
   "name": "python3"
  },
  "language_info": {
   "codemirror_mode": {
    "name": "ipython",
    "version": 3
   },
   "file_extension": ".py",
   "mimetype": "text/x-python",
   "name": "python",
   "nbconvert_exporter": "python",
   "pygments_lexer": "ipython3",
   "version": "3.11.5"
  }
 },
 "nbformat": 4,
 "nbformat_minor": 5
}
